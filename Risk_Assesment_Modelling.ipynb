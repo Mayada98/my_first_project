{
 "cells": [
  {
   "cell_type": "code",
   "execution_count": 1,
   "metadata": {},
   "outputs": [
    {
     "name": "stdout",
     "output_type": "stream",
     "text": [
      "WARNING:tensorflow:From c:\\Users\\User\\my_scripts\\.venv\\lib\\site-packages\\keras\\src\\losses.py:2976: The name tf.losses.sparse_softmax_cross_entropy is deprecated. Please use tf.compat.v1.losses.sparse_softmax_cross_entropy instead.\n",
      "\n"
     ]
    }
   ],
   "source": [
    "import numpy as np\n",
    "import pandas as pd\n",
    "import sklearn\n",
    "import seaborn as sns\n",
    "import matplotlib.pyplot as plt\n",
    "from sklearn.model_selection import train_test_split\n",
    "from sklearn.neighbors import KNeighborsClassifier\n",
    "from sklearn.ensemble import RandomForestClassifier \n",
    "from sklearn import svm, tree\n",
    "from xgboost import XGBClassifier\n",
    "from keras.models import Sequential\n",
    "from keras.layers import Dense\n",
    "from sklearn.metrics import confusion_matrix\n"
   ]
  },
  {
   "cell_type": "code",
   "execution_count": 2,
   "metadata": {},
   "outputs": [
    {
     "data": {
      "text/html": [
       "<div>\n",
       "<style scoped>\n",
       "    .dataframe tbody tr th:only-of-type {\n",
       "        vertical-align: middle;\n",
       "    }\n",
       "\n",
       "    .dataframe tbody tr th {\n",
       "        vertical-align: top;\n",
       "    }\n",
       "\n",
       "    .dataframe thead th {\n",
       "        text-align: right;\n",
       "    }\n",
       "</style>\n",
       "<table border=\"1\" class=\"dataframe\">\n",
       "  <thead>\n",
       "    <tr style=\"text-align: right;\">\n",
       "      <th></th>\n",
       "      <th>loan_amnt</th>\n",
       "      <th>funded_amnt</th>\n",
       "      <th>funded_amnt_inv</th>\n",
       "      <th>int_rate</th>\n",
       "      <th>annual_inc</th>\n",
       "      <th>dti</th>\n",
       "      <th>inq_last_6mths</th>\n",
       "      <th>pub_rec</th>\n",
       "      <th>revol_util</th>\n",
       "      <th>total_acc</th>\n",
       "      <th>total_pymnt</th>\n",
       "      <th>total_pymnt_inv</th>\n",
       "      <th>total_rec_late_fee</th>\n",
       "      <th>recoveries</th>\n",
       "      <th>collection_recovery_fee</th>\n",
       "      <th>last_pymnt_amnt</th>\n",
       "      <th>fico_average</th>\n",
       "      <th>term</th>\n",
       "      <th>grade</th>\n",
       "      <th>target</th>\n",
       "    </tr>\n",
       "  </thead>\n",
       "  <tbody>\n",
       "    <tr>\n",
       "      <th>0</th>\n",
       "      <td>5000.0</td>\n",
       "      <td>5000.0</td>\n",
       "      <td>4975.0</td>\n",
       "      <td>10.65</td>\n",
       "      <td>24000.0</td>\n",
       "      <td>27.65</td>\n",
       "      <td>1.0</td>\n",
       "      <td>0.0</td>\n",
       "      <td>83.7</td>\n",
       "      <td>9.0</td>\n",
       "      <td>5863.155187</td>\n",
       "      <td>5833.84</td>\n",
       "      <td>0.00</td>\n",
       "      <td>0.00</td>\n",
       "      <td>0.00</td>\n",
       "      <td>171.62</td>\n",
       "      <td>737.0</td>\n",
       "      <td>0.741507</td>\n",
       "      <td>2</td>\n",
       "      <td>1</td>\n",
       "    </tr>\n",
       "    <tr>\n",
       "      <th>1</th>\n",
       "      <td>2500.0</td>\n",
       "      <td>2500.0</td>\n",
       "      <td>2500.0</td>\n",
       "      <td>15.27</td>\n",
       "      <td>30000.0</td>\n",
       "      <td>1.00</td>\n",
       "      <td>5.0</td>\n",
       "      <td>0.0</td>\n",
       "      <td>9.4</td>\n",
       "      <td>4.0</td>\n",
       "      <td>1008.710000</td>\n",
       "      <td>1008.71</td>\n",
       "      <td>0.00</td>\n",
       "      <td>117.08</td>\n",
       "      <td>1.11</td>\n",
       "      <td>119.66</td>\n",
       "      <td>742.0</td>\n",
       "      <td>0.258493</td>\n",
       "      <td>3</td>\n",
       "      <td>0</td>\n",
       "    </tr>\n",
       "    <tr>\n",
       "      <th>2</th>\n",
       "      <td>2400.0</td>\n",
       "      <td>2400.0</td>\n",
       "      <td>2400.0</td>\n",
       "      <td>15.96</td>\n",
       "      <td>12252.0</td>\n",
       "      <td>8.72</td>\n",
       "      <td>2.0</td>\n",
       "      <td>0.0</td>\n",
       "      <td>98.5</td>\n",
       "      <td>10.0</td>\n",
       "      <td>3005.666844</td>\n",
       "      <td>3005.67</td>\n",
       "      <td>0.00</td>\n",
       "      <td>0.00</td>\n",
       "      <td>0.00</td>\n",
       "      <td>649.91</td>\n",
       "      <td>737.0</td>\n",
       "      <td>0.741507</td>\n",
       "      <td>3</td>\n",
       "      <td>1</td>\n",
       "    </tr>\n",
       "    <tr>\n",
       "      <th>3</th>\n",
       "      <td>10000.0</td>\n",
       "      <td>10000.0</td>\n",
       "      <td>10000.0</td>\n",
       "      <td>13.49</td>\n",
       "      <td>49200.0</td>\n",
       "      <td>20.00</td>\n",
       "      <td>1.0</td>\n",
       "      <td>0.0</td>\n",
       "      <td>21.0</td>\n",
       "      <td>37.0</td>\n",
       "      <td>12231.890000</td>\n",
       "      <td>12231.89</td>\n",
       "      <td>16.97</td>\n",
       "      <td>0.00</td>\n",
       "      <td>0.00</td>\n",
       "      <td>357.48</td>\n",
       "      <td>692.0</td>\n",
       "      <td>0.741507</td>\n",
       "      <td>3</td>\n",
       "      <td>1</td>\n",
       "    </tr>\n",
       "    <tr>\n",
       "      <th>4</th>\n",
       "      <td>5000.0</td>\n",
       "      <td>5000.0</td>\n",
       "      <td>5000.0</td>\n",
       "      <td>7.90</td>\n",
       "      <td>36000.0</td>\n",
       "      <td>11.20</td>\n",
       "      <td>3.0</td>\n",
       "      <td>0.0</td>\n",
       "      <td>28.3</td>\n",
       "      <td>12.0</td>\n",
       "      <td>5632.210000</td>\n",
       "      <td>5632.21</td>\n",
       "      <td>0.00</td>\n",
       "      <td>0.00</td>\n",
       "      <td>0.00</td>\n",
       "      <td>161.03</td>\n",
       "      <td>732.0</td>\n",
       "      <td>0.741507</td>\n",
       "      <td>1</td>\n",
       "      <td>1</td>\n",
       "    </tr>\n",
       "  </tbody>\n",
       "</table>\n",
       "</div>"
      ],
      "text/plain": [
       "   loan_amnt  funded_amnt  funded_amnt_inv  int_rate  annual_inc    dti  \\\n",
       "0     5000.0       5000.0           4975.0     10.65     24000.0  27.65   \n",
       "1     2500.0       2500.0           2500.0     15.27     30000.0   1.00   \n",
       "2     2400.0       2400.0           2400.0     15.96     12252.0   8.72   \n",
       "3    10000.0      10000.0          10000.0     13.49     49200.0  20.00   \n",
       "4     5000.0       5000.0           5000.0      7.90     36000.0  11.20   \n",
       "\n",
       "   inq_last_6mths  pub_rec  revol_util  total_acc   total_pymnt  \\\n",
       "0             1.0      0.0        83.7        9.0   5863.155187   \n",
       "1             5.0      0.0         9.4        4.0   1008.710000   \n",
       "2             2.0      0.0        98.5       10.0   3005.666844   \n",
       "3             1.0      0.0        21.0       37.0  12231.890000   \n",
       "4             3.0      0.0        28.3       12.0   5632.210000   \n",
       "\n",
       "   total_pymnt_inv  total_rec_late_fee  recoveries  collection_recovery_fee  \\\n",
       "0          5833.84                0.00        0.00                     0.00   \n",
       "1          1008.71                0.00      117.08                     1.11   \n",
       "2          3005.67                0.00        0.00                     0.00   \n",
       "3         12231.89               16.97        0.00                     0.00   \n",
       "4          5632.21                0.00        0.00                     0.00   \n",
       "\n",
       "   last_pymnt_amnt  fico_average      term  grade  target  \n",
       "0           171.62         737.0  0.741507      2       1  \n",
       "1           119.66         742.0  0.258493      3       0  \n",
       "2           649.91         737.0  0.741507      3       1  \n",
       "3           357.48         692.0  0.741507      3       1  \n",
       "4           161.03         732.0  0.741507      1       1  "
      ]
     },
     "execution_count": 2,
     "metadata": {},
     "output_type": "execute_result"
    }
   ],
   "source": [
    "df  = pd.read_csv(\"modelling_data/ready_data.csv\")\n",
    "df.head()"
   ]
  },
  {
   "cell_type": "code",
   "execution_count": 3,
   "metadata": {},
   "outputs": [
    {
     "data": {
      "text/plain": [
       "(39239, 20)"
      ]
     },
     "execution_count": 3,
     "metadata": {},
     "output_type": "execute_result"
    }
   ],
   "source": [
    "df.shape"
   ]
  },
  {
   "cell_type": "markdown",
   "metadata": {},
   "source": [
    "##### Check for imbalanced classes in the target feature"
   ]
  },
  {
   "cell_type": "code",
   "execution_count": 4,
   "metadata": {},
   "outputs": [
    {
     "data": {
      "image/png": "[encoded data removed]",
      "text/plain": [
       "<Figure size 1000x700 with 2 Axes>"
      ]
     },
     "metadata": {},
     "output_type": "display_data"
    }
   ],
   "source": [
    "fig, axs = plt.subplots(1,2,figsize=(10,7))\n",
    "sns.countplot(x='target',data=df,ax=axs[0])\n",
    "axs[0].set_title(\"Frequency of each Loan Status\")\n",
    "df.target.value_counts().plot(x=None,y=None, kind='pie', ax=axs[1],autopct='%1.2f%%')\n",
    "axs[1].set_title(\"Percentage of each Loan status\")\n",
    "plt.show()"
   ]
  },
  {
   "cell_type": "markdown",
   "metadata": {},
   "source": [
    "Since we have class imbalance we use a method provided by sklearn for calculating class weights so the model learns to predict the minority class properly. Note that not all models have an option for defining class weights so another approach for handling class imabalance would be necessary."
   ]
  },
  {
   "cell_type": "code",
   "execution_count": 5,
   "metadata": {},
   "outputs": [
    {
     "name": "stdout",
     "output_type": "stream",
     "text": [
      "[3.47063506 0.58415709]\n"
     ]
    }
   ],
   "source": [
    "Y = df['target'].values\n",
    "b = sklearn.utils.class_weight.compute_class_weight( class_weight = \"balanced\",\n",
    "                                                    classes = np.unique(Y),\n",
    "                                                    y = Y)\n",
    "print(b)"
   ]
  },
  {
   "cell_type": "code",
   "execution_count": 6,
   "metadata": {},
   "outputs": [
    {
     "data": {
      "text/plain": [
       "{0: 3.470635061029542, 1: 0.5841570892633835}"
      ]
     },
     "execution_count": 6,
     "metadata": {},
     "output_type": "execute_result"
    }
   ],
   "source": [
    "class_weight = dict(zip([0,1], b))\n",
    "class_weight"
   ]
  },
  {
   "cell_type": "code",
   "execution_count": 7,
   "metadata": {},
   "outputs": [],
   "source": [
    "mean = df.mean()"
   ]
  },
  {
   "cell_type": "markdown",
   "metadata": {},
   "source": [
    "#### Apply flooring and capping to deal with outliers "
   ]
  },
  {
   "cell_type": "code",
   "execution_count": 8,
   "metadata": {},
   "outputs": [],
   "source": [
    "for col in df.columns:\n",
    "    percentiles = df[col].quantile([0.01,0.99]).values\n",
    "    df[col] = np.clip(df[col], percentiles[0], percentiles[1])"
   ]
  },
  {
   "cell_type": "code",
   "execution_count": 9,
   "metadata": {},
   "outputs": [],
   "source": [
    "mean2 = df.mean()\n",
    "means = []\n",
    "means = pd.DataFrame(means)\n",
    "means['mean1'] = mean\n",
    "means['mean2'] = pd.DataFrame(mean2)"
   ]
  },
  {
   "cell_type": "code",
   "execution_count": 10,
   "metadata": {},
   "outputs": [],
   "source": [
    "diff = (abs(means.mean1.values - means.mean2.values)/means.mean1.values)*100"
   ]
  },
  {
   "cell_type": "code",
   "execution_count": 11,
   "metadata": {},
   "outputs": [],
   "source": [
    "means['diff'] = diff #this is the difference in percentage "
   ]
  },
  {
   "cell_type": "code",
   "execution_count": 12,
   "metadata": {},
   "outputs": [
    {
     "name": "stdout",
     "output_type": "stream",
     "text": [
      "                                mean1         mean2       diff\n",
      "loan_amnt                11134.730115  11136.456077   0.015501\n",
      "funded_amnt              10863.217080  10864.952598   0.015976\n",
      "funded_amnt_inv          10307.088303  10309.202434   0.020511\n",
      "int_rate                    11.981232     11.971730   0.079314\n",
      "annual_inc               68884.323399  67152.720212   2.513784\n",
      "dti                         13.293984     13.281155   0.096505\n",
      "inq_last_6mths               0.870359      0.859349   1.264933\n",
      "pub_rec                      0.055404      0.053595   3.265869\n",
      "revol_util                  48.675557     48.667846   0.015843\n",
      "total_acc                   22.072428     22.027371   0.204133\n",
      "total_pymnt              12040.915831  11994.576893   0.384846\n",
      "total_pymnt_inv          11448.427009  11402.055200   0.405050\n",
      "total_rec_late_fee           1.376608      1.142071  17.037265\n",
      "recoveries                  97.395175     63.430243  34.873321\n",
      "collection_recovery_fee     12.739819      5.491327  56.896352\n",
      "last_pymnt_amnt           2709.791926   2668.128705   1.537506\n",
      "fico_average               717.000765    716.925075   0.010556\n",
      "term                         0.616651      0.616651   0.000000\n",
      "grade                        2.567853      2.559928   0.308654\n",
      "target                       0.855934      0.855934   0.000000\n"
     ]
    }
   ],
   "source": [
    "print(means)"
   ]
  },
  {
   "cell_type": "markdown",
   "metadata": {},
   "source": [
    "3 of the parameters have significant difference in the mean. We will build the 2 models using the dataset after applying flooring and capping and see the results "
   ]
  },
  {
   "cell_type": "markdown",
   "metadata": {},
   "source": [
    "#### Splitting the data for training and testing the models"
   ]
  },
  {
   "cell_type": "code",
   "execution_count": 13,
   "metadata": {},
   "outputs": [],
   "source": [
    "X = df.drop('target', axis =1 )\n",
    "Y = df.target\n",
    "x_train, x_test, y_train, y_test = train_test_split(X,Y,test_size = 0.2,random_state=1)"
   ]
  },
  {
   "cell_type": "markdown",
   "metadata": {},
   "source": [
    "The models will be KNN and RF"
   ]
  },
  {
   "cell_type": "code",
   "execution_count": 14,
   "metadata": {},
   "outputs": [
    {
     "name": "stdout",
     "output_type": "stream",
     "text": [
      "KNN Score for the training phase:  0.9714886432416935\n",
      "K-Nearest Neighbors Score for the testing phase :  0.9649592252803262\n"
     ]
    }
   ],
   "source": [
    "knn = KNeighborsClassifier()\n",
    "knn.fit(x_train,y_train)\n",
    "\n",
    "print('KNN Score for the training phase: ', knn.score(x_train,y_train))\n",
    "\n",
    "print('K-Nearest Neighbors Score for the testing phase : ',knn.score(x_test,y_test))"
   ]
  },
  {
   "cell_type": "code",
   "execution_count": 15,
   "metadata": {},
   "outputs": [
    {
     "name": "stdout",
     "output_type": "stream",
     "text": [
      "Random Forest Score training phase :  1.0\n",
      "Random Forest Score for testing phase:  0.9938837920489296\n"
     ]
    }
   ],
   "source": [
    "rf = RandomForestClassifier()\n",
    "\n",
    "rf.fit(x_train,y_train)\n",
    "\n",
    "print('Random Forest Score training phase : ',rf.score(x_train,y_train))\n",
    "\n",
    "print('Random Forest Score for testing phase: ',rf.score(x_test,y_test))"
   ]
  },
  {
   "cell_type": "markdown",
   "metadata": {},
   "source": [
    "Those scores show that some of the features have a strong correlation with the target feature. After checking the correlation done in the previous part of the code we can see that:\n",
    "\n",
    "1. 6 of the features have high correlation with the target and are: total_pymnt, total_pymnt_inv, total_rec_late_fee, recoveries, collection_recovery_fee, last_pymnt_amnt.\n",
    "2. After checking the description of each of the features it turns out that all of them leak information from the future, which explains why our models were overfitting.\n",
    "3. The 3 features with high difference in mean after dealing with outliers are among those 6 features\n",
    "\n",
    "To solve this issue we will drop the feature from the dataset and move on to modeling."
   ]
  },
  {
   "cell_type": "code",
   "execution_count": 16,
   "metadata": {},
   "outputs": [],
   "source": [
    "droplist = ['total_pymnt','total_pymnt_inv','total_rec_late_fee','recoveries', 'collection_recovery_fee','last_pymnt_amnt']\n",
    "df = df.drop(droplist,axis=1)"
   ]
  },
  {
   "cell_type": "markdown",
   "metadata": {},
   "source": [
    "#### Building the models"
   ]
  },
  {
   "cell_type": "code",
   "execution_count": 17,
   "metadata": {},
   "outputs": [],
   "source": [
    "X = df.drop('target', axis =1 )\n",
    "Y = df.target\n",
    "x_train, x_test, y_train, y_test = train_test_split(X,Y,test_size = 0.2,random_state=1)"
   ]
  },
  {
   "cell_type": "markdown",
   "metadata": {},
   "source": [
    "##### 1. K-Nearest Neighbor"
   ]
  },
  {
   "cell_type": "code",
   "execution_count": 18,
   "metadata": {},
   "outputs": [
    {
     "data": {
      "text/html": [
       "<style>#sk-container-id-1 {color: black;}#sk-container-id-1 pre{padding: 0;}#sk-container-id-1 div.sk-toggleable {background-color: white;}#sk-container-id-1 label.sk-toggleable__label {cursor: pointer;display: block;width: 100%;margin-bottom: 0;padding: 0.3em;box-sizing: border-box;text-align: center;}#sk-container-id-1 label.sk-toggleable__label-arrow:before {content: \"▸\";float: left;margin-right: 0.25em;color: #696969;}#sk-container-id-1 label.sk-toggleable__label-arrow:hover:before {color: black;}#sk-container-id-1 div.sk-estimator:hover label.sk-toggleable__label-arrow:before {color: black;}#sk-container-id-1 div.sk-toggleable__content {max-height: 0;max-width: 0;overflow: hidden;text-align: left;background-color: #f0f8ff;}#sk-container-id-1 div.sk-toggleable__content pre {margin: 0.2em;color: black;border-radius: 0.25em;background-color: #f0f8ff;}#sk-container-id-1 input.sk-toggleable__control:checked~div.sk-toggleable__content {max-height: 200px;max-width: 100%;overflow: auto;}#sk-container-id-1 input.sk-toggleable__control:checked~label.sk-toggleable__label-arrow:before {content: \"▾\";}#sk-container-id-1 div.sk-estimator input.sk-toggleable__control:checked~label.sk-toggleable__label {background-color: #d4ebff;}#sk-container-id-1 div.sk-label input.sk-toggleable__control:checked~label.sk-toggleable__label {background-color: #d4ebff;}#sk-container-id-1 input.sk-hidden--visually {border: 0;clip: rect(1px 1px 1px 1px);clip: rect(1px, 1px, 1px, 1px);height: 1px;margin: -1px;overflow: hidden;padding: 0;position: absolute;width: 1px;}#sk-container-id-1 div.sk-estimator {font-family: monospace;background-color: #f0f8ff;border: 1px dotted black;border-radius: 0.25em;box-sizing: border-box;margin-bottom: 0.5em;}#sk-container-id-1 div.sk-estimator:hover {background-color: #d4ebff;}#sk-container-id-1 div.sk-parallel-item::after {content: \"\";width: 100%;border-bottom: 1px solid gray;flex-grow: 1;}#sk-container-id-1 div.sk-label:hover label.sk-toggleable__label {background-color: #d4ebff;}#sk-container-id-1 div.sk-serial::before {content: \"\";position: absolute;border-left: 1px solid gray;box-sizing: border-box;top: 0;bottom: 0;left: 50%;z-index: 0;}#sk-container-id-1 div.sk-serial {display: flex;flex-direction: column;align-items: center;background-color: white;padding-right: 0.2em;padding-left: 0.2em;position: relative;}#sk-container-id-1 div.sk-item {position: relative;z-index: 1;}#sk-container-id-1 div.sk-parallel {display: flex;align-items: stretch;justify-content: center;background-color: white;position: relative;}#sk-container-id-1 div.sk-item::before, #sk-container-id-1 div.sk-parallel-item::before {content: \"\";position: absolute;border-left: 1px solid gray;box-sizing: border-box;top: 0;bottom: 0;left: 50%;z-index: -1;}#sk-container-id-1 div.sk-parallel-item {display: flex;flex-direction: column;z-index: 1;position: relative;background-color: white;}#sk-container-id-1 div.sk-parallel-item:first-child::after {align-self: flex-end;width: 50%;}#sk-container-id-1 div.sk-parallel-item:last-child::after {align-self: flex-start;width: 50%;}#sk-container-id-1 div.sk-parallel-item:only-child::after {width: 0;}#sk-container-id-1 div.sk-dashed-wrapped {border: 1px dashed gray;margin: 0 0.4em 0.5em 0.4em;box-sizing: border-box;padding-bottom: 0.4em;background-color: white;}#sk-container-id-1 div.sk-label label {font-family: monospace;font-weight: bold;display: inline-block;line-height: 1.2em;}#sk-container-id-1 div.sk-label-container {text-align: center;}#sk-container-id-1 div.sk-container {/* jupyter's `normalize.less` sets `[hidden] { display: none; }` but bootstrap.min.css set `[hidden] { display: none !important; }` so we also need the `!important` here to be able to override the default hidden behavior on the sphinx rendered scikit-learn.org. See: https://github.com/scikit-learn/scikit-learn/issues/21755 */display: inline-block !important;position: relative;}#sk-container-id-1 div.sk-text-repr-fallback {display: none;}</style><div id=\"sk-container-id-1\" class=\"sk-top-container\"><div class=\"sk-text-repr-fallback\"><pre>KNeighborsClassifier()</pre><b>In a Jupyter environment, please rerun this cell to show the HTML representation or trust the notebook. <br />On GitHub, the HTML representation is unable to render, please try loading this page with nbviewer.org.</b></div><div class=\"sk-container\" hidden><div class=\"sk-item\"><div class=\"sk-estimator sk-toggleable\"><input class=\"sk-toggleable__control sk-hidden--visually\" id=\"sk-estimator-id-1\" type=\"checkbox\" checked><label for=\"sk-estimator-id-1\" class=\"sk-toggleable__label sk-toggleable__label-arrow\">KNeighborsClassifier</label><div class=\"sk-toggleable__content\"><pre>KNeighborsClassifier()</pre></div></div></div></div></div>"
      ],
      "text/plain": [
       "KNeighborsClassifier()"
      ]
     },
     "execution_count": 18,
     "metadata": {},
     "output_type": "execute_result"
    }
   ],
   "source": [
    "# we can check the parameters for the algorithm\n",
    "KNeighborsClassifier()"
   ]
  },
  {
   "cell_type": "code",
   "execution_count": 19,
   "metadata": {},
   "outputs": [
    {
     "name": "stdout",
     "output_type": "stream",
     "text": [
      "KNN Score for the training phase:  0.8658851263100888\n",
      "K-Nearest Neighbors Score for the testing phase :  0.8321865443425076\n"
     ]
    }
   ],
   "source": [
    "knn = KNeighborsClassifier(n_neighbors = 5)\n",
    "\n",
    "knn.fit(x_train,y_train)\n",
    "\n",
    "print('KNN Score for the training phase: ', knn.score(x_train,y_train))\n",
    "\n",
    "print('K-Nearest Neighbors Score for the testing phase : ',knn.score(x_test,y_test))\n"
   ]
  },
  {
   "cell_type": "markdown",
   "metadata": {},
   "source": [
    "##### 2. Random Forest"
   ]
  },
  {
   "cell_type": "code",
   "execution_count": 20,
   "metadata": {},
   "outputs": [
    {
     "data": {
      "text/html": [
       "<style>#sk-container-id-2 {color: black;}#sk-container-id-2 pre{padding: 0;}#sk-container-id-2 div.sk-toggleable {background-color: white;}#sk-container-id-2 label.sk-toggleable__label {cursor: pointer;display: block;width: 100%;margin-bottom: 0;padding: 0.3em;box-sizing: border-box;text-align: center;}#sk-container-id-2 label.sk-toggleable__label-arrow:before {content: \"▸\";float: left;margin-right: 0.25em;color: #696969;}#sk-container-id-2 label.sk-toggleable__label-arrow:hover:before {color: black;}#sk-container-id-2 div.sk-estimator:hover label.sk-toggleable__label-arrow:before {color: black;}#sk-container-id-2 div.sk-toggleable__content {max-height: 0;max-width: 0;overflow: hidden;text-align: left;background-color: #f0f8ff;}#sk-container-id-2 div.sk-toggleable__content pre {margin: 0.2em;color: black;border-radius: 0.25em;background-color: #f0f8ff;}#sk-container-id-2 input.sk-toggleable__control:checked~div.sk-toggleable__content {max-height: 200px;max-width: 100%;overflow: auto;}#sk-container-id-2 input.sk-toggleable__control:checked~label.sk-toggleable__label-arrow:before {content: \"▾\";}#sk-container-id-2 div.sk-estimator input.sk-toggleable__control:checked~label.sk-toggleable__label {background-color: #d4ebff;}#sk-container-id-2 div.sk-label input.sk-toggleable__control:checked~label.sk-toggleable__label {background-color: #d4ebff;}#sk-container-id-2 input.sk-hidden--visually {border: 0;clip: rect(1px 1px 1px 1px);clip: rect(1px, 1px, 1px, 1px);height: 1px;margin: -1px;overflow: hidden;padding: 0;position: absolute;width: 1px;}#sk-container-id-2 div.sk-estimator {font-family: monospace;background-color: #f0f8ff;border: 1px dotted black;border-radius: 0.25em;box-sizing: border-box;margin-bottom: 0.5em;}#sk-container-id-2 div.sk-estimator:hover {background-color: #d4ebff;}#sk-container-id-2 div.sk-parallel-item::after {content: \"\";width: 100%;border-bottom: 1px solid gray;flex-grow: 1;}#sk-container-id-2 div.sk-label:hover label.sk-toggleable__label {background-color: #d4ebff;}#sk-container-id-2 div.sk-serial::before {content: \"\";position: absolute;border-left: 1px solid gray;box-sizing: border-box;top: 0;bottom: 0;left: 50%;z-index: 0;}#sk-container-id-2 div.sk-serial {display: flex;flex-direction: column;align-items: center;background-color: white;padding-right: 0.2em;padding-left: 0.2em;position: relative;}#sk-container-id-2 div.sk-item {position: relative;z-index: 1;}#sk-container-id-2 div.sk-parallel {display: flex;align-items: stretch;justify-content: center;background-color: white;position: relative;}#sk-container-id-2 div.sk-item::before, #sk-container-id-2 div.sk-parallel-item::before {content: \"\";position: absolute;border-left: 1px solid gray;box-sizing: border-box;top: 0;bottom: 0;left: 50%;z-index: -1;}#sk-container-id-2 div.sk-parallel-item {display: flex;flex-direction: column;z-index: 1;position: relative;background-color: white;}#sk-container-id-2 div.sk-parallel-item:first-child::after {align-self: flex-end;width: 50%;}#sk-container-id-2 div.sk-parallel-item:last-child::after {align-self: flex-start;width: 50%;}#sk-container-id-2 div.sk-parallel-item:only-child::after {width: 0;}#sk-container-id-2 div.sk-dashed-wrapped {border: 1px dashed gray;margin: 0 0.4em 0.5em 0.4em;box-sizing: border-box;padding-bottom: 0.4em;background-color: white;}#sk-container-id-2 div.sk-label label {font-family: monospace;font-weight: bold;display: inline-block;line-height: 1.2em;}#sk-container-id-2 div.sk-label-container {text-align: center;}#sk-container-id-2 div.sk-container {/* jupyter's `normalize.less` sets `[hidden] { display: none; }` but bootstrap.min.css set `[hidden] { display: none !important; }` so we also need the `!important` here to be able to override the default hidden behavior on the sphinx rendered scikit-learn.org. See: https://github.com/scikit-learn/scikit-learn/issues/21755 */display: inline-block !important;position: relative;}#sk-container-id-2 div.sk-text-repr-fallback {display: none;}</style><div id=\"sk-container-id-2\" class=\"sk-top-container\"><div class=\"sk-text-repr-fallback\"><pre>RandomForestClassifier()</pre><b>In a Jupyter environment, please rerun this cell to show the HTML representation or trust the notebook. <br />On GitHub, the HTML representation is unable to render, please try loading this page with nbviewer.org.</b></div><div class=\"sk-container\" hidden><div class=\"sk-item\"><div class=\"sk-estimator sk-toggleable\"><input class=\"sk-toggleable__control sk-hidden--visually\" id=\"sk-estimator-id-2\" type=\"checkbox\" checked><label for=\"sk-estimator-id-2\" class=\"sk-toggleable__label sk-toggleable__label-arrow\">RandomForestClassifier</label><div class=\"sk-toggleable__content\"><pre>RandomForestClassifier()</pre></div></div></div></div></div>"
      ],
      "text/plain": [
       "RandomForestClassifier()"
      ]
     },
     "execution_count": 20,
     "metadata": {},
     "output_type": "execute_result"
    }
   ],
   "source": [
    "RandomForestClassifier()"
   ]
  },
  {
   "cell_type": "code",
   "execution_count": 21,
   "metadata": {},
   "outputs": [
    {
     "name": "stdout",
     "output_type": "stream",
     "text": [
      "Random Forest Score training phase :  0.9969417986046956\n",
      "Random Forest Score for testing phase:  0.8470948012232415\n"
     ]
    }
   ],
   "source": [
    "rf = RandomForestClassifier(n_estimators = 20, class_weight ='balanced')\n",
    "\n",
    "rf.fit(x_train,y_train)\n",
    "\n",
    "print('Random Forest Score training phase : ',rf.score(x_train,y_train))\n",
    "\n",
    "print('Random Forest Score for testing phase: ',rf.score(x_test,y_test))\n"
   ]
  },
  {
   "cell_type": "markdown",
   "metadata": {},
   "source": [
    "##### 3. Support Vector Machine - SVM"
   ]
  },
  {
   "cell_type": "code",
   "execution_count": 22,
   "metadata": {},
   "outputs": [
    {
     "data": {
      "text/html": [
       "<style>#sk-container-id-3 {color: black;}#sk-container-id-3 pre{padding: 0;}#sk-container-id-3 div.sk-toggleable {background-color: white;}#sk-container-id-3 label.sk-toggleable__label {cursor: pointer;display: block;width: 100%;margin-bottom: 0;padding: 0.3em;box-sizing: border-box;text-align: center;}#sk-container-id-3 label.sk-toggleable__label-arrow:before {content: \"▸\";float: left;margin-right: 0.25em;color: #696969;}#sk-container-id-3 label.sk-toggleable__label-arrow:hover:before {color: black;}#sk-container-id-3 div.sk-estimator:hover label.sk-toggleable__label-arrow:before {color: black;}#sk-container-id-3 div.sk-toggleable__content {max-height: 0;max-width: 0;overflow: hidden;text-align: left;background-color: #f0f8ff;}#sk-container-id-3 div.sk-toggleable__content pre {margin: 0.2em;color: black;border-radius: 0.25em;background-color: #f0f8ff;}#sk-container-id-3 input.sk-toggleable__control:checked~div.sk-toggleable__content {max-height: 200px;max-width: 100%;overflow: auto;}#sk-container-id-3 input.sk-toggleable__control:checked~label.sk-toggleable__label-arrow:before {content: \"▾\";}#sk-container-id-3 div.sk-estimator input.sk-toggleable__control:checked~label.sk-toggleable__label {background-color: #d4ebff;}#sk-container-id-3 div.sk-label input.sk-toggleable__control:checked~label.sk-toggleable__label {background-color: #d4ebff;}#sk-container-id-3 input.sk-hidden--visually {border: 0;clip: rect(1px 1px 1px 1px);clip: rect(1px, 1px, 1px, 1px);height: 1px;margin: -1px;overflow: hidden;padding: 0;position: absolute;width: 1px;}#sk-container-id-3 div.sk-estimator {font-family: monospace;background-color: #f0f8ff;border: 1px dotted black;border-radius: 0.25em;box-sizing: border-box;margin-bottom: 0.5em;}#sk-container-id-3 div.sk-estimator:hover {background-color: #d4ebff;}#sk-container-id-3 div.sk-parallel-item::after {content: \"\";width: 100%;border-bottom: 1px solid gray;flex-grow: 1;}#sk-container-id-3 div.sk-label:hover label.sk-toggleable__label {background-color: #d4ebff;}#sk-container-id-3 div.sk-serial::before {content: \"\";position: absolute;border-left: 1px solid gray;box-sizing: border-box;top: 0;bottom: 0;left: 50%;z-index: 0;}#sk-container-id-3 div.sk-serial {display: flex;flex-direction: column;align-items: center;background-color: white;padding-right: 0.2em;padding-left: 0.2em;position: relative;}#sk-container-id-3 div.sk-item {position: relative;z-index: 1;}#sk-container-id-3 div.sk-parallel {display: flex;align-items: stretch;justify-content: center;background-color: white;position: relative;}#sk-container-id-3 div.sk-item::before, #sk-container-id-3 div.sk-parallel-item::before {content: \"\";position: absolute;border-left: 1px solid gray;box-sizing: border-box;top: 0;bottom: 0;left: 50%;z-index: -1;}#sk-container-id-3 div.sk-parallel-item {display: flex;flex-direction: column;z-index: 1;position: relative;background-color: white;}#sk-container-id-3 div.sk-parallel-item:first-child::after {align-self: flex-end;width: 50%;}#sk-container-id-3 div.sk-parallel-item:last-child::after {align-self: flex-start;width: 50%;}#sk-container-id-3 div.sk-parallel-item:only-child::after {width: 0;}#sk-container-id-3 div.sk-dashed-wrapped {border: 1px dashed gray;margin: 0 0.4em 0.5em 0.4em;box-sizing: border-box;padding-bottom: 0.4em;background-color: white;}#sk-container-id-3 div.sk-label label {font-family: monospace;font-weight: bold;display: inline-block;line-height: 1.2em;}#sk-container-id-3 div.sk-label-container {text-align: center;}#sk-container-id-3 div.sk-container {/* jupyter's `normalize.less` sets `[hidden] { display: none; }` but bootstrap.min.css set `[hidden] { display: none !important; }` so we also need the `!important` here to be able to override the default hidden behavior on the sphinx rendered scikit-learn.org. See: https://github.com/scikit-learn/scikit-learn/issues/21755 */display: inline-block !important;position: relative;}#sk-container-id-3 div.sk-text-repr-fallback {display: none;}</style><div id=\"sk-container-id-3\" class=\"sk-top-container\"><div class=\"sk-text-repr-fallback\"><pre>SVC()</pre><b>In a Jupyter environment, please rerun this cell to show the HTML representation or trust the notebook. <br />On GitHub, the HTML representation is unable to render, please try loading this page with nbviewer.org.</b></div><div class=\"sk-container\" hidden><div class=\"sk-item\"><div class=\"sk-estimator sk-toggleable\"><input class=\"sk-toggleable__control sk-hidden--visually\" id=\"sk-estimator-id-3\" type=\"checkbox\" checked><label for=\"sk-estimator-id-3\" class=\"sk-toggleable__label sk-toggleable__label-arrow\">SVC</label><div class=\"sk-toggleable__content\"><pre>SVC()</pre></div></div></div></div></div>"
      ],
      "text/plain": [
       "SVC()"
      ]
     },
     "execution_count": 22,
     "metadata": {},
     "output_type": "execute_result"
    }
   ],
   "source": [
    "svm.SVC()"
   ]
  },
  {
   "cell_type": "code",
   "execution_count": 38,
   "metadata": {},
   "outputs": [
    {
     "name": "stdout",
     "output_type": "stream",
     "text": [
      "SVM Score training phase :  1.0\n",
      "SVM Score for testing phase:  0.854230377166157\n"
     ]
    }
   ],
   "source": [
    "clf = svm.SVC(C=1000,class_weight=class_weight, gamma = 5)\n",
    "\n",
    "clf.fit(x_train, y_train)\n",
    "\n",
    "print('SVM Score training phase : ',clf.score(x_train,y_train))\n",
    "\n",
    "print('SVM Score for testing phase: ',clf.score(x_test,y_test))"
   ]
  },
  {
   "cell_type": "code",
   "execution_count": 23,
   "metadata": {},
   "outputs": [
    {
     "name": "stdout",
     "output_type": "stream",
     "text": [
      "SVM Score training phase :  0.9786563027619382\n",
      "SVM Score for testing phase:  0.8305300713557594\n"
     ]
    }
   ],
   "source": [
    "clf = svm.SVC(C=0.6,class_weight= 'balanced', gamma = 0.001)\n",
    "\n",
    "clf.fit(x_train, y_train)\n",
    "\n",
    "print('SVM Score training phase : ',clf.score(x_train,y_train))\n",
    "\n",
    "print('SVM Score for testing phase: ',clf.score(x_test,y_test))"
   ]
  },
  {
   "cell_type": "markdown",
   "metadata": {},
   "source": [
    "##### 4. Decision Trees"
   ]
  },
  {
   "cell_type": "code",
   "execution_count": 24,
   "metadata": {},
   "outputs": [
    {
     "name": "stdout",
     "output_type": "stream",
     "text": [
      "DecisionTreeClassifier()\n"
     ]
    }
   ],
   "source": [
    "print(tree.DecisionTreeClassifier())\n",
    "dt = tree.DecisionTreeClassifier(class_weight = 'balanced', max_depth = 30,  min_samples_split= 4)"
   ]
  },
  {
   "cell_type": "code",
   "execution_count": 25,
   "metadata": {},
   "outputs": [
    {
     "name": "stdout",
     "output_type": "stream",
     "text": [
      "Decision Trees training phase :  0.9788792966136791\n",
      "Decision Trees Score for testing phase:  0.7559887869520897\n"
     ]
    }
   ],
   "source": [
    "dt.fit(x_train, y_train)\n",
    "\n",
    "print('Decision Trees training phase : ',dt.score(x_train,y_train))\n",
    "\n",
    "print('Decision Trees Score for testing phase: ',dt.score(x_test,y_test))"
   ]
  },
  {
   "cell_type": "markdown",
   "metadata": {},
   "source": [
    "##### 5. XGBoost"
   ]
  },
  {
   "cell_type": "code",
   "execution_count": 26,
   "metadata": {},
   "outputs": [
    {
     "data": {
      "text/html": [
       "<style>#sk-container-id-4 {color: black;}#sk-container-id-4 pre{padding: 0;}#sk-container-id-4 div.sk-toggleable {background-color: white;}#sk-container-id-4 label.sk-toggleable__label {cursor: pointer;display: block;width: 100%;margin-bottom: 0;padding: 0.3em;box-sizing: border-box;text-align: center;}#sk-container-id-4 label.sk-toggleable__label-arrow:before {content: \"▸\";float: left;margin-right: 0.25em;color: #696969;}#sk-container-id-4 label.sk-toggleable__label-arrow:hover:before {color: black;}#sk-container-id-4 div.sk-estimator:hover label.sk-toggleable__label-arrow:before {color: black;}#sk-container-id-4 div.sk-toggleable__content {max-height: 0;max-width: 0;overflow: hidden;text-align: left;background-color: #f0f8ff;}#sk-container-id-4 div.sk-toggleable__content pre {margin: 0.2em;color: black;border-radius: 0.25em;background-color: #f0f8ff;}#sk-container-id-4 input.sk-toggleable__control:checked~div.sk-toggleable__content {max-height: 200px;max-width: 100%;overflow: auto;}#sk-container-id-4 input.sk-toggleable__control:checked~label.sk-toggleable__label-arrow:before {content: \"▾\";}#sk-container-id-4 div.sk-estimator input.sk-toggleable__control:checked~label.sk-toggleable__label {background-color: #d4ebff;}#sk-container-id-4 div.sk-label input.sk-toggleable__control:checked~label.sk-toggleable__label {background-color: #d4ebff;}#sk-container-id-4 input.sk-hidden--visually {border: 0;clip: rect(1px 1px 1px 1px);clip: rect(1px, 1px, 1px, 1px);height: 1px;margin: -1px;overflow: hidden;padding: 0;position: absolute;width: 1px;}#sk-container-id-4 div.sk-estimator {font-family: monospace;background-color: #f0f8ff;border: 1px dotted black;border-radius: 0.25em;box-sizing: border-box;margin-bottom: 0.5em;}#sk-container-id-4 div.sk-estimator:hover {background-color: #d4ebff;}#sk-container-id-4 div.sk-parallel-item::after {content: \"\";width: 100%;border-bottom: 1px solid gray;flex-grow: 1;}#sk-container-id-4 div.sk-label:hover label.sk-toggleable__label {background-color: #d4ebff;}#sk-container-id-4 div.sk-serial::before {content: \"\";position: absolute;border-left: 1px solid gray;box-sizing: border-box;top: 0;bottom: 0;left: 50%;z-index: 0;}#sk-container-id-4 div.sk-serial {display: flex;flex-direction: column;align-items: center;background-color: white;padding-right: 0.2em;padding-left: 0.2em;position: relative;}#sk-container-id-4 div.sk-item {position: relative;z-index: 1;}#sk-container-id-4 div.sk-parallel {display: flex;align-items: stretch;justify-content: center;background-color: white;position: relative;}#sk-container-id-4 div.sk-item::before, #sk-container-id-4 div.sk-parallel-item::before {content: \"\";position: absolute;border-left: 1px solid gray;box-sizing: border-box;top: 0;bottom: 0;left: 50%;z-index: -1;}#sk-container-id-4 div.sk-parallel-item {display: flex;flex-direction: column;z-index: 1;position: relative;background-color: white;}#sk-container-id-4 div.sk-parallel-item:first-child::after {align-self: flex-end;width: 50%;}#sk-container-id-4 div.sk-parallel-item:last-child::after {align-self: flex-start;width: 50%;}#sk-container-id-4 div.sk-parallel-item:only-child::after {width: 0;}#sk-container-id-4 div.sk-dashed-wrapped {border: 1px dashed gray;margin: 0 0.4em 0.5em 0.4em;box-sizing: border-box;padding-bottom: 0.4em;background-color: white;}#sk-container-id-4 div.sk-label label {font-family: monospace;font-weight: bold;display: inline-block;line-height: 1.2em;}#sk-container-id-4 div.sk-label-container {text-align: center;}#sk-container-id-4 div.sk-container {/* jupyter's `normalize.less` sets `[hidden] { display: none; }` but bootstrap.min.css set `[hidden] { display: none !important; }` so we also need the `!important` here to be able to override the default hidden behavior on the sphinx rendered scikit-learn.org. See: https://github.com/scikit-learn/scikit-learn/issues/21755 */display: inline-block !important;position: relative;}#sk-container-id-4 div.sk-text-repr-fallback {display: none;}</style><div id=\"sk-container-id-4\" class=\"sk-top-container\"><div class=\"sk-text-repr-fallback\"><pre>XGBClassifier(base_score=None, booster=None, callbacks=None,\n",
       "              colsample_bylevel=None, colsample_bynode=None,\n",
       "              colsample_bytree=None, device=None, early_stopping_rounds=None,\n",
       "              enable_categorical=False, eval_metric=None, feature_types=None,\n",
       "              gamma=None, grow_policy=None, importance_type=None,\n",
       "              interaction_constraints=None, learning_rate=None, max_bin=None,\n",
       "              max_cat_threshold=None, max_cat_to_onehot=None,\n",
       "              max_delta_step=None, max_depth=None, max_leaves=None,\n",
       "              min_child_weight=None, missing=nan, monotone_constraints=None,\n",
       "              multi_strategy=None, n_estimators=None, n_jobs=None,\n",
       "              num_parallel_tree=None, random_state=None, ...)</pre><b>In a Jupyter environment, please rerun this cell to show the HTML representation or trust the notebook. <br />On GitHub, the HTML representation is unable to render, please try loading this page with nbviewer.org.</b></div><div class=\"sk-container\" hidden><div class=\"sk-item\"><div class=\"sk-estimator sk-toggleable\"><input class=\"sk-toggleable__control sk-hidden--visually\" id=\"sk-estimator-id-4\" type=\"checkbox\" checked><label for=\"sk-estimator-id-4\" class=\"sk-toggleable__label sk-toggleable__label-arrow\">XGBClassifier</label><div class=\"sk-toggleable__content\"><pre>XGBClassifier(base_score=None, booster=None, callbacks=None,\n",
       "              colsample_bylevel=None, colsample_bynode=None,\n",
       "              colsample_bytree=None, device=None, early_stopping_rounds=None,\n",
       "              enable_categorical=False, eval_metric=None, feature_types=None,\n",
       "              gamma=None, grow_policy=None, importance_type=None,\n",
       "              interaction_constraints=None, learning_rate=None, max_bin=None,\n",
       "              max_cat_threshold=None, max_cat_to_onehot=None,\n",
       "              max_delta_step=None, max_depth=None, max_leaves=None,\n",
       "              min_child_weight=None, missing=nan, monotone_constraints=None,\n",
       "              multi_strategy=None, n_estimators=None, n_jobs=None,\n",
       "              num_parallel_tree=None, random_state=None, ...)</pre></div></div></div></div></div>"
      ],
      "text/plain": [
       "XGBClassifier(base_score=None, booster=None, callbacks=None,\n",
       "              colsample_bylevel=None, colsample_bynode=None,\n",
       "              colsample_bytree=None, device=None, early_stopping_rounds=None,\n",
       "              enable_categorical=False, eval_metric=None, feature_types=None,\n",
       "              gamma=None, grow_policy=None, importance_type=None,\n",
       "              interaction_constraints=None, learning_rate=None, max_bin=None,\n",
       "              max_cat_threshold=None, max_cat_to_onehot=None,\n",
       "              max_delta_step=None, max_depth=None, max_leaves=None,\n",
       "              min_child_weight=None, missing=nan, monotone_constraints=None,\n",
       "              multi_strategy=None, n_estimators=None, n_jobs=None,\n",
       "              num_parallel_tree=None, random_state=None, ...)"
      ]
     },
     "execution_count": 26,
     "metadata": {},
     "output_type": "execute_result"
    }
   ],
   "source": [
    "XGBClassifier()"
   ]
  },
  {
   "cell_type": "code",
   "execution_count": 79,
   "metadata": {},
   "outputs": [
    {
     "name": "stdout",
     "output_type": "stream",
     "text": [
      "XGBoost Score training phase :  0.8888534930394062\n",
      "XGBoost Score for testing phase:  0.85282874617737\n"
     ]
    }
   ],
   "source": [
    "#model = XGBClassifier(max_depth = 9, scale_pos_weight = 4)\n",
    "xgbmodel = XGBClassifier(max_depth = 8, learning_rate = 0.01, n_estimators = 1000)\n",
    "\n",
    "xgbmodel.fit(x_train, y_train)\n",
    "\n",
    "print('XGBoost Score training phase : ', xgbmodel.score(x_train,y_train))\n",
    "\n",
    "print('XGBoost Score for testing phase: ', xgbmodel.score(x_test,y_test))"
   ]
  },
  {
   "cell_type": "markdown",
   "metadata": {},
   "source": [
    "##### 6. Neural Network"
   ]
  },
  {
   "cell_type": "code",
   "execution_count": 138,
   "metadata": {},
   "outputs": [],
   "source": [
    "nn_model = Sequential()\n",
    "nn_model.add(Dense(13,input_dim = 13, activation = 'relu'))\n",
    "nn_model.add(Dense(4, activation = 'relu'))\n",
    "nn_model.add(Dense(1, activation = 'sigmoid'))"
   ]
  },
  {
   "cell_type": "code",
   "execution_count": 139,
   "metadata": {},
   "outputs": [],
   "source": [
    "nn_model.compile(loss = 'binary_crossentropy',optimizer = 'adam', metrics = ['accuracy'])"
   ]
  },
  {
   "cell_type": "code",
   "execution_count": 140,
   "metadata": {},
   "outputs": [
    {
     "name": "stdout",
     "output_type": "stream",
     "text": [
      "Epoch 1/50\n",
      "393/393 [==============================] - 2s 2ms/step - loss: 11.3680 - accuracy: 0.1752\n",
      "Epoch 2/50\n",
      "393/393 [==============================] - 1s 2ms/step - loss: 0.6960 - accuracy: 0.2244\n",
      "Epoch 3/50\n",
      "393/393 [==============================] - 1s 2ms/step - loss: 0.6923 - accuracy: 0.6080\n",
      "Epoch 4/50\n",
      "393/393 [==============================] - 1s 2ms/step - loss: 0.6923 - accuracy: 0.3267\n",
      "Epoch 5/50\n",
      "393/393 [==============================] - 1s 2ms/step - loss: 0.6923 - accuracy: 0.7007\n",
      "Epoch 6/50\n",
      "393/393 [==============================] - 1s 2ms/step - loss: 0.6923 - accuracy: 0.7291\n",
      "Epoch 7/50\n",
      "393/393 [==============================] - 1s 2ms/step - loss: 0.6923 - accuracy: 0.7696\n",
      "Epoch 8/50\n",
      "393/393 [==============================] - 1s 2ms/step - loss: 0.6923 - accuracy: 0.7738\n",
      "Epoch 9/50\n",
      "393/393 [==============================] - 1s 2ms/step - loss: 0.6923 - accuracy: 0.5450\n",
      "Epoch 10/50\n",
      "393/393 [==============================] - 1s 2ms/step - loss: 0.6923 - accuracy: 0.3625\n",
      "Epoch 11/50\n",
      "393/393 [==============================] - 1s 2ms/step - loss: 0.6923 - accuracy: 0.6656\n",
      "Epoch 12/50\n",
      "393/393 [==============================] - 1s 2ms/step - loss: 0.6923 - accuracy: 0.8101\n",
      "Epoch 13/50\n",
      "393/393 [==============================] - 1s 2ms/step - loss: 0.6923 - accuracy: 0.5127\n",
      "Epoch 14/50\n",
      "393/393 [==============================] - 1s 2ms/step - loss: 0.6923 - accuracy: 0.7136\n",
      "Epoch 15/50\n",
      "393/393 [==============================] - 1s 2ms/step - loss: 0.6923 - accuracy: 0.7016\n",
      "Epoch 16/50\n",
      "393/393 [==============================] - 1s 2ms/step - loss: 0.6923 - accuracy: 0.5656\n",
      "Epoch 17/50\n",
      "393/393 [==============================] - 1s 2ms/step - loss: 0.6923 - accuracy: 0.7689\n",
      "Epoch 18/50\n",
      "393/393 [==============================] - 1s 2ms/step - loss: 0.6923 - accuracy: 0.6037\n",
      "Epoch 19/50\n",
      "393/393 [==============================] - 1s 2ms/step - loss: 0.6923 - accuracy: 0.4555\n",
      "Epoch 20/50\n",
      "393/393 [==============================] - 1s 2ms/step - loss: 0.6923 - accuracy: 0.3857\n",
      "Epoch 21/50\n",
      "393/393 [==============================] - 1s 2ms/step - loss: 0.6923 - accuracy: 0.8556\n",
      "Epoch 22/50\n",
      "393/393 [==============================] - 1s 2ms/step - loss: 0.6923 - accuracy: 0.2249\n",
      "Epoch 23/50\n",
      "393/393 [==============================] - 1s 2ms/step - loss: 0.6923 - accuracy: 0.8564\n",
      "Epoch 24/50\n",
      "393/393 [==============================] - 1s 2ms/step - loss: 0.6923 - accuracy: 0.4151\n",
      "Epoch 25/50\n",
      "393/393 [==============================] - 1s 2ms/step - loss: 0.6923 - accuracy: 0.8537\n",
      "Epoch 26/50\n",
      "393/393 [==============================] - 1s 2ms/step - loss: 0.6923 - accuracy: 0.7083\n",
      "Epoch 27/50\n",
      "393/393 [==============================] - 1s 2ms/step - loss: 0.6923 - accuracy: 0.5165\n",
      "Epoch 28/50\n",
      "393/393 [==============================] - 1s 2ms/step - loss: 0.6923 - accuracy: 0.4526\n",
      "Epoch 29/50\n",
      "393/393 [==============================] - 1s 2ms/step - loss: 0.6923 - accuracy: 0.6254\n",
      "Epoch 30/50\n",
      "393/393 [==============================] - 1s 2ms/step - loss: 0.6923 - accuracy: 0.8102\n",
      "Epoch 31/50\n",
      "393/393 [==============================] - 1s 2ms/step - loss: 0.6923 - accuracy: 0.3778\n",
      "Epoch 32/50\n",
      "393/393 [==============================] - 1s 2ms/step - loss: 0.6923 - accuracy: 0.8397\n",
      "Epoch 33/50\n",
      "393/393 [==============================] - 1s 2ms/step - loss: 0.6923 - accuracy: 0.3470\n",
      "Epoch 34/50\n",
      "393/393 [==============================] - 1s 2ms/step - loss: 0.6923 - accuracy: 0.6803\n",
      "Epoch 35/50\n",
      "393/393 [==============================] - 1s 2ms/step - loss: 0.6923 - accuracy: 0.6987\n",
      "Epoch 36/50\n",
      "393/393 [==============================] - 1s 2ms/step - loss: 0.6923 - accuracy: 0.5705\n",
      "Epoch 37/50\n",
      "393/393 [==============================] - 1s 2ms/step - loss: 0.6923 - accuracy: 0.5076\n",
      "Epoch 38/50\n",
      "393/393 [==============================] - 1s 2ms/step - loss: 0.6923 - accuracy: 0.8242\n",
      "Epoch 39/50\n",
      "393/393 [==============================] - 1s 2ms/step - loss: 0.6923 - accuracy: 0.5593\n",
      "Epoch 40/50\n",
      "393/393 [==============================] - 1s 2ms/step - loss: 0.6923 - accuracy: 0.7228\n",
      "Epoch 41/50\n",
      "393/393 [==============================] - 1s 2ms/step - loss: 0.6923 - accuracy: 0.6728\n",
      "Epoch 42/50\n",
      "393/393 [==============================] - 1s 2ms/step - loss: 0.6923 - accuracy: 0.7526\n",
      "Epoch 43/50\n",
      "393/393 [==============================] - 1s 2ms/step - loss: 0.6923 - accuracy: 0.4412\n",
      "Epoch 44/50\n",
      "393/393 [==============================] - 1s 2ms/step - loss: 0.6923 - accuracy: 0.5670\n",
      "Epoch 45/50\n",
      "393/393 [==============================] - 1s 2ms/step - loss: 0.6923 - accuracy: 0.7105\n",
      "Epoch 46/50\n",
      "393/393 [==============================] - 1s 2ms/step - loss: 0.6923 - accuracy: 0.8564\n",
      "Epoch 47/50\n",
      "393/393 [==============================] - 1s 2ms/step - loss: 0.6923 - accuracy: 0.4641\n",
      "Epoch 48/50\n",
      "393/393 [==============================] - 1s 2ms/step - loss: 0.6923 - accuracy: 0.3672\n",
      "Epoch 49/50\n",
      "393/393 [==============================] - 1s 2ms/step - loss: 0.6923 - accuracy: 0.6360\n",
      "Epoch 50/50\n",
      "393/393 [==============================] - 1s 2ms/step - loss: 0.6923 - accuracy: 0.7448\n"
     ]
    },
    {
     "data": {
      "text/plain": [
       "<keras.src.callbacks.History at 0x27d85b80400>"
      ]
     },
     "execution_count": 140,
     "metadata": {},
     "output_type": "execute_result"
    }
   ],
   "source": [
    "nn_model.fit(x_train,y_train,epochs = 50, batch_size = 80, class_weight=class_weight)"
   ]
  },
  {
   "cell_type": "markdown",
   "metadata": {},
   "source": [
    "#### Final accuracy score "
   ]
  },
  {
   "cell_type": "code",
   "execution_count": 141,
   "metadata": {},
   "outputs": [
    {
     "name": "stdout",
     "output_type": "stream",
     "text": [
      "246/246 [==============================] - 1s 2ms/step - loss: 0.6926 - accuracy: 0.8542\n",
      "\n",
      "accuracy: 85.42%\n"
     ]
    }
   ],
   "source": [
    "scores = nn_model.evaluate(x_test,y_test)\n",
    "print('\\n%s: %.2f%%'% (nn_model.metrics_names[1], scores[1]*100))"
   ]
  },
  {
   "cell_type": "markdown",
   "metadata": {},
   "source": [
    "#### adding Dropout after the hidden layer"
   ]
  },
  {
   "cell_type": "code",
   "execution_count": 142,
   "metadata": {},
   "outputs": [],
   "source": [
    "from keras.layers import Dropout\n",
    "nn_model_dropout = Sequential()\n",
    "nn_model_dropout.add(Dense(13,input_dim = 13, activation = 'relu'))\n",
    "nn_model_dropout.add(Dense(3, activation = 'relu'))\n",
    "nn_model_dropout.add(Dropout(0.5))\n",
    "nn_model_dropout.add(Dense(1, activation = 'sigmoid'))"
   ]
  },
  {
   "cell_type": "code",
   "execution_count": 143,
   "metadata": {},
   "outputs": [],
   "source": [
    "nn_model_dropout.compile(loss = 'binary_crossentropy',optimizer = 'adam', metrics = ['accuracy'])"
   ]
  },
  {
   "cell_type": "code",
   "execution_count": 144,
   "metadata": {},
   "outputs": [
    {
     "name": "stdout",
     "output_type": "stream",
     "text": [
      "Epoch 1/50\n",
      "393/393 [==============================] - 2s 2ms/step - loss: 33.2833 - accuracy: 0.8347\n",
      "Epoch 2/50\n",
      "393/393 [==============================] - 1s 2ms/step - loss: 0.7745 - accuracy: 0.8563\n",
      "Epoch 3/50\n",
      "393/393 [==============================] - 1s 2ms/step - loss: 0.7442 - accuracy: 0.5788\n",
      "Epoch 4/50\n",
      "393/393 [==============================] - 1s 2ms/step - loss: 0.7314 - accuracy: 0.8130\n",
      "Epoch 5/50\n",
      "393/393 [==============================] - 1s 2ms/step - loss: 0.7003 - accuracy: 0.5401\n",
      "Epoch 6/50\n",
      "393/393 [==============================] - 1s 2ms/step - loss: 0.6923 - accuracy: 0.7694\n",
      "Epoch 7/50\n",
      "393/393 [==============================] - 1s 2ms/step - loss: 0.6923 - accuracy: 0.7903\n",
      "Epoch 8/50\n",
      "393/393 [==============================] - 1s 2ms/step - loss: 0.6945 - accuracy: 0.2894\n",
      "Epoch 9/50\n",
      "393/393 [==============================] - 1s 2ms/step - loss: 0.6923 - accuracy: 0.5104\n",
      "Epoch 10/50\n",
      "393/393 [==============================] - 1s 2ms/step - loss: 0.6923 - accuracy: 0.4724\n",
      "Epoch 11/50\n",
      "393/393 [==============================] - 1s 2ms/step - loss: 0.6923 - accuracy: 0.4124\n",
      "Epoch 12/50\n",
      "393/393 [==============================] - 1s 2ms/step - loss: 0.6923 - accuracy: 0.8564\n",
      "Epoch 13/50\n",
      "393/393 [==============================] - 1s 2ms/step - loss: 0.6923 - accuracy: 0.7746\n",
      "Epoch 14/50\n",
      "393/393 [==============================] - 1s 2ms/step - loss: 0.6923 - accuracy: 0.5739\n",
      "Epoch 15/50\n",
      "393/393 [==============================] - 1s 2ms/step - loss: 0.6923 - accuracy: 0.8564\n",
      "Epoch 16/50\n",
      "393/393 [==============================] - 1s 2ms/step - loss: 0.6923 - accuracy: 0.6429\n",
      "Epoch 17/50\n",
      "393/393 [==============================] - 1s 2ms/step - loss: 0.6923 - accuracy: 0.4357\n",
      "Epoch 18/50\n",
      "393/393 [==============================] - 1s 2ms/step - loss: 0.6924 - accuracy: 0.7429\n",
      "Epoch 19/50\n",
      "393/393 [==============================] - 1s 2ms/step - loss: 0.6923 - accuracy: 0.5167\n",
      "Epoch 20/50\n",
      "393/393 [==============================] - 1s 2ms/step - loss: 0.6923 - accuracy: 0.4606\n",
      "Epoch 21/50\n",
      "393/393 [==============================] - 1s 2ms/step - loss: 0.6923 - accuracy: 0.8110\n",
      "Epoch 22/50\n",
      "393/393 [==============================] - 1s 2ms/step - loss: 0.6923 - accuracy: 0.8230\n",
      "Epoch 23/50\n",
      "393/393 [==============================] - 1s 2ms/step - loss: 0.6923 - accuracy: 0.3273\n",
      "Epoch 24/50\n",
      "393/393 [==============================] - 1s 2ms/step - loss: 0.6923 - accuracy: 0.8564\n",
      "Epoch 25/50\n",
      "393/393 [==============================] - 1s 2ms/step - loss: 0.6923 - accuracy: 0.3822\n",
      "Epoch 26/50\n",
      "393/393 [==============================] - 1s 2ms/step - loss: 0.6923 - accuracy: 0.7878\n",
      "Epoch 27/50\n",
      "393/393 [==============================] - 1s 2ms/step - loss: 0.6923 - accuracy: 0.7139\n",
      "Epoch 28/50\n",
      "393/393 [==============================] - 1s 2ms/step - loss: 0.6923 - accuracy: 0.5786\n",
      "Epoch 29/50\n",
      "393/393 [==============================] - 1s 2ms/step - loss: 0.6923 - accuracy: 0.7101\n",
      "Epoch 30/50\n",
      "393/393 [==============================] - 1s 2ms/step - loss: 0.6923 - accuracy: 0.8564\n",
      "Epoch 31/50\n",
      "393/393 [==============================] - 1s 2ms/step - loss: 0.6923 - accuracy: 0.6240\n",
      "Epoch 32/50\n",
      "393/393 [==============================] - 1s 2ms/step - loss: 0.6923 - accuracy: 0.8028\n",
      "Epoch 33/50\n",
      "393/393 [==============================] - 1s 2ms/step - loss: 0.6923 - accuracy: 0.4887\n",
      "Epoch 34/50\n",
      "393/393 [==============================] - 1s 2ms/step - loss: 0.6923 - accuracy: 0.6117\n",
      "Epoch 35/50\n",
      "393/393 [==============================] - 1s 2ms/step - loss: 0.6923 - accuracy: 0.4801\n",
      "Epoch 36/50\n",
      "393/393 [==============================] - 1s 2ms/step - loss: 0.6923 - accuracy: 0.8504\n",
      "Epoch 37/50\n",
      "393/393 [==============================] - 1s 2ms/step - loss: 0.6923 - accuracy: 0.3096\n",
      "Epoch 38/50\n",
      "393/393 [==============================] - 1s 2ms/step - loss: 0.6923 - accuracy: 0.8564\n",
      "Epoch 39/50\n",
      "393/393 [==============================] - 1s 2ms/step - loss: 0.6923 - accuracy: 0.8564\n",
      "Epoch 40/50\n",
      "393/393 [==============================] - 1s 2ms/step - loss: 0.6923 - accuracy: 0.4507\n",
      "Epoch 41/50\n",
      "393/393 [==============================] - 1s 2ms/step - loss: 0.6923 - accuracy: 0.7821\n",
      "Epoch 42/50\n",
      "393/393 [==============================] - 1s 2ms/step - loss: 0.6923 - accuracy: 0.7707\n",
      "Epoch 43/50\n",
      "393/393 [==============================] - 1s 2ms/step - loss: 0.6923 - accuracy: 0.5312\n",
      "Epoch 44/50\n",
      "393/393 [==============================] - 1s 2ms/step - loss: 0.6923 - accuracy: 0.8056\n",
      "Epoch 45/50\n",
      "393/393 [==============================] - 1s 2ms/step - loss: 0.6923 - accuracy: 0.5262\n",
      "Epoch 46/50\n",
      "393/393 [==============================] - 1s 2ms/step - loss: 0.6923 - accuracy: 0.7371\n",
      "Epoch 47/50\n",
      "393/393 [==============================] - 1s 2ms/step - loss: 0.6923 - accuracy: 0.7561\n",
      "Epoch 48/50\n",
      "393/393 [==============================] - 1s 2ms/step - loss: 0.6923 - accuracy: 0.4320\n",
      "Epoch 49/50\n",
      "393/393 [==============================] - 1s 2ms/step - loss: 0.6923 - accuracy: 0.6112\n",
      "Epoch 50/50\n",
      "393/393 [==============================] - 1s 2ms/step - loss: 0.6923 - accuracy: 0.8564\n"
     ]
    },
    {
     "data": {
      "text/plain": [
       "<keras.src.callbacks.History at 0x27d85f3d390>"
      ]
     },
     "execution_count": 144,
     "metadata": {},
     "output_type": "execute_result"
    }
   ],
   "source": [
    "nn_model_dropout.fit(x_train,y_train,epochs = 50, batch_size = 80, class_weight = class_weight)"
   ]
  },
  {
   "cell_type": "markdown",
   "metadata": {},
   "source": [
    "Using accuracy scores is a nice way to check the models performance, however to better check how well the models did predicting the target feature confusion matrix is used."
   ]
  },
  {
   "cell_type": "markdown",
   "metadata": {},
   "source": [
    "### Building confusion matrices for each model"
   ]
  },
  {
   "cell_type": "markdown",
   "metadata": {},
   "source": [
    "##### 1. Confusion Matrix for KNN predictions"
   ]
  },
  {
   "cell_type": "code",
   "execution_count": 150,
   "metadata": {},
   "outputs": [
    {
     "data": {
      "text/plain": [
       "Text(95.72222222222221, 0.5, 'Truth')"
      ]
     },
     "execution_count": 150,
     "metadata": {},
     "output_type": "execute_result"
    },
    {
     "data": {
      "image/png": "[encoded data removed]",
      "text/plain": [
       "<Figure size 1000x700 with 1 Axes>"
      ]
     },
     "metadata": {},
     "output_type": "display_data"
    }
   ],
   "source": [
    "y_predicted  = knn.predict(x_test)\n",
    "cm = confusion_matrix(y_test , y_predicted)\n",
    "plt.figure(figsize = (10,7))\n",
    "sn.heatmap(cm, annot = True, cbar=False, fmt='g')\n",
    "plt.xlabel('Predicted')\n",
    "plt.ylabel('Truth')"
   ]
  },
  {
   "cell_type": "markdown",
   "metadata": {},
   "source": [
    "##### 2. Confusion Matrix for Random Forest predictions"
   ]
  },
  {
   "cell_type": "code",
   "execution_count": 151,
   "metadata": {},
   "outputs": [
    {
     "data": {
      "text/plain": [
       "Text(95.72222222222221, 0.5, 'Truth')"
      ]
     },
     "execution_count": 151,
     "metadata": {},
     "output_type": "execute_result"
    },
    {
     "data": {
      "image/png": "[encoded data removed]",
      "text/plain": [
       "<Figure size 1000x700 with 1 Axes>"
      ]
     },
     "metadata": {},
     "output_type": "display_data"
    }
   ],
   "source": [
    "y_predicted  = rf.predict(x_test)\n",
    "cm = confusion_matrix(y_test , y_predicted)\n",
    "plt.figure(figsize = (10,7))\n",
    "sns.heatmap(cm, annot = True, cbar=False, fmt='g')\n",
    "plt.xlabel('Predicted')\n",
    "plt.ylabel('Truth')"
   ]
  },
  {
   "cell_type": "markdown",
   "metadata": {},
   "source": [
    "##### 3. Confusion Matrix for SVM predictions"
   ]
  },
  {
   "cell_type": "code",
   "execution_count": 152,
   "metadata": {},
   "outputs": [
    {
     "data": {
      "text/plain": [
       "Text(95.72222222222221, 0.5, 'Truth')"
      ]
     },
     "execution_count": 152,
     "metadata": {},
     "output_type": "execute_result"
    },
    {
     "data": {
      "image/png": "[encoded data removed]",
      "text/plain": [
       "<Figure size 1000x700 with 1 Axes>"
      ]
     },
     "metadata": {},
     "output_type": "display_data"
    }
   ],
   "source": [
    "y_predicted  = clf.predict(x_test)\n",
    "cm = confusion_matrix(y_test , y_predicted)\n",
    "plt.figure(figsize = (10,7))\n",
    "sns.heatmap(cm, annot = True, cbar=False, fmt='g')\n",
    "plt.xlabel('Predicted')\n",
    "plt.ylabel('Truth')"
   ]
  },
  {
   "cell_type": "markdown",
   "metadata": {},
   "source": [
    "##### 4. Confusion Matrix for Decision Tree predictions"
   ]
  },
  {
   "cell_type": "code",
   "execution_count": 153,
   "metadata": {},
   "outputs": [
    {
     "data": {
      "text/plain": [
       "Text(95.72222222222221, 0.5, 'Truth')"
      ]
     },
     "execution_count": 153,
     "metadata": {},
     "output_type": "execute_result"
    },
    {
     "data": {
      "image/png": "[encoded data removed]",
      "text/plain": [
       "<Figure size 1000x700 with 1 Axes>"
      ]
     },
     "metadata": {},
     "output_type": "display_data"
    }
   ],
   "source": [
    "y_predicted  = dt.predict(x_test)\n",
    "cm = confusion_matrix(y_test , y_predicted)\n",
    "plt.figure(figsize = (10,7))\n",
    "sns.heatmap(cm, annot = True, cbar=False, fmt='g')\n",
    "plt.xlabel('Predicted')\n",
    "plt.ylabel('Truth')"
   ]
  },
  {
   "cell_type": "markdown",
   "metadata": {},
   "source": [
    "##### 5. Confusion Matrix for XGBoost predictions"
   ]
  },
  {
   "cell_type": "code",
   "execution_count": 154,
   "metadata": {},
   "outputs": [
    {
     "data": {
      "text/plain": [
       "Text(95.72222222222221, 0.5, 'Truth')"
      ]
     },
     "execution_count": 154,
     "metadata": {},
     "output_type": "execute_result"
    },
    {
     "data": {
      "image/png": "[encoded data removed]",
      "text/plain": [
       "<Figure size 1000x700 with 1 Axes>"
      ]
     },
     "metadata": {},
     "output_type": "display_data"
    }
   ],
   "source": [
    "y_predicted  = xgbmodel.predict(x_test)\n",
    "cm = confusion_matrix(y_test , y_predicted)\n",
    "\n",
    "plt.figure(figsize = (10,7))\n",
    "sns.heatmap(cm, annot = True, cbar=False, fmt='g')\n",
    "plt.xlabel('Predicted')\n",
    "plt.ylabel('Truth')"
   ]
  },
  {
   "cell_type": "markdown",
   "metadata": {},
   "source": [
    "##### 6. Confusion Matrix for Neural Network predictions"
   ]
  },
  {
   "cell_type": "code",
   "execution_count": 155,
   "metadata": {},
   "outputs": [
    {
     "name": "stdout",
     "output_type": "stream",
     "text": [
      "246/246 [==============================] - 0s 1ms/step\n"
     ]
    },
    {
     "data": {
      "text/plain": [
       "0.145769622833843"
      ]
     },
     "execution_count": 155,
     "metadata": {},
     "output_type": "execute_result"
    }
   ],
   "source": [
    "y_predicted = nn_model.predict(x_test)\n",
    "y_predicted = y_predicted.argmax(axis=-1)\n",
    "from sklearn.metrics import accuracy_score\n",
    "accuracy_score(y_test, y_predicted)"
   ]
  },
  {
   "cell_type": "code",
   "execution_count": 156,
   "metadata": {},
   "outputs": [
    {
     "data": {
      "text/plain": [
       "Text(95.72222222222221, 0.5, 'Truth')"
      ]
     },
     "execution_count": 156,
     "metadata": {},
     "output_type": "execute_result"
    },
    {
     "data": {
      "image/png": "[encoded data removed]",
      "text/plain": [
       "<Figure size 1000x700 with 1 Axes>"
      ]
     },
     "metadata": {},
     "output_type": "display_data"
    }
   ],
   "source": [
    "cm = confusion_matrix(y_test , y_predicted)\n",
    "plt.figure(figsize = (10,7))\n",
    "sns.heatmap(cm, annot = True, cbar=False, fmt='g')\n",
    "plt.xlabel('Predicted')\n",
    "plt.ylabel('Truth')"
   ]
  }
 ],
 "metadata": {
  "kernelspec": {
   "display_name": "Python 3",
   "language": "python",
   "name": "python3"
  },
  "language_info": {
   "codemirror_mode": {
    "name": "ipython",
    "version": 3
   },
   "file_extension": ".py",
   "mimetype": "text/x-python",
   "name": "python",
   "nbconvert_exporter": "python",
   "pygments_lexer": "ipython3",
   "version": "3.10.0"
  }
 },
 "nbformat": 4,
 "nbformat_minor": 2
}
